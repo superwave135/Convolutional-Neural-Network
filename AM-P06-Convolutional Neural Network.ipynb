{
 "cells": [
  {
   "cell_type": "raw",
   "metadata": {},
   "source": [
    "Name: Tan Ngiap Chuan Alvin"
   ]
  },
  {
   "cell_type": "markdown",
   "metadata": {},
   "source": [
    "# Advanced Machine Learning - Practicum 6 - Convolutional Neural Network\n",
    "\n",
    "**Topics covered**: Convolutional Neural Network\n",
    "\n",
    "**Deliverables**:\n",
    "- Complete the tasks as detailed in this document.  <br>\n",
    "- The keras model file `mymodel.h5` (see Task 2 for detail). <br>\n",
    "This practice uses [Keras](https://keras.io/api/) with Tensorflow.\n",
    "\n",
    "**Objectives**:\n",
    "After completing the tasks, you'll know how to:\n",
    "- implement a simplified 7-layer LeNet CNN, and <br>\n",
    "- apply it for object recognition. <br>\n",
    "- design and implement a convnet model on a given data set. <br>\n",
    "\n",
    "---\n",
    "Import needed packages"
   ]
  },
  {
   "cell_type": "code",
   "execution_count": 1,
   "metadata": {},
   "outputs": [],
   "source": [
    "import numpy as np\n",
    "import tensorflow as tf    # one-hot encode\n",
    "from PIL import Image\n",
    "from keras import layers\n",
    "from keras import models\n",
    "from keras.callbacks import EarlyStopping\n",
    "from keras import optimizers\n",
    "import matplotlib.pyplot as plt\n",
    "from keras.layers import Conv2D, MaxPooling2D, Dense, Flatten, Dropout\n",
    "from sklearn.model_selection import train_test_split"
   ]
  },
  {
   "cell_type": "code",
   "execution_count": 2,
   "metadata": {},
   "outputs": [
    {
     "name": "stdout",
     "output_type": "stream",
     "text": [
      "2.4.3\n"
     ]
    }
   ],
   "source": [
    "import keras as kr\n",
    "print(kr.__version__)\n",
    "# 2.4.3"
   ]
  },
  {
   "cell_type": "markdown",
   "metadata": {},
   "source": [
    "## 1. Task 1 - Implement a convnet\n",
    "\n",
    "### 1.1 Load image and Get train, test data set\n",
    "The facial images are frm **olivettifaces** we used before. <br>\n",
    "There are ten different images of each of 40 distinct subjects. The image is quantized to 256 grey levels and stored as unsigned 8-bit integers. Size of each image is 57 by 47 with 1 channel.<br>\n",
    "In order to adapt to convnets, the data and target need to be reshaped. <br>\n",
    "Run code in cell below to get `train_data`, `train_target`, `test_data`, `test_target`"
   ]
  },
  {
   "cell_type": "code",
   "execution_count": 3,
   "metadata": {},
   "outputs": [
    {
     "name": "stdout",
     "output_type": "stream",
     "text": [
      "faces:[[0.1882353  0.1764706  0.19215687 ... 0.9647059  0.9647059  0.9647059 ]\n",
      " [0.23529412 0.24313726 0.1882353  ... 0.9647059  0.9647059  0.9647059 ]\n",
      " [0.15294118 0.20784314 0.23921569 ... 0.9647059  0.9647059  0.9647059 ]\n",
      " ...\n",
      " [0.9647059  0.49019608 0.4862745  ... 0.9647059  0.9647059  0.9647059 ]\n",
      " [0.9647059  0.46666667 0.47058824 ... 0.9647059  0.9647059  0.9647059 ]\n",
      " [0.9647059  0.49019608 0.4862745  ... 0.9647059  0.9647059  0.9647059 ]](400, 2679)\n",
      "\n"
     ]
    }
   ],
   "source": [
    "# Load and normalize face image data\n",
    "def load_images(filename):\n",
    "    \n",
    "    # open files, use Image.open()\n",
    "    img = Image.open(filename)\n",
    "    \n",
    "    # Normalize pixle values, let it with range [0,1]\n",
    "    img_ndarray = np.asarray(img, dtype='float32')/255\n",
    "    \n",
    "    # Split the entire image into 400 samples\n",
    "    faces = np.empty((400,2679),dtype='float32')\n",
    "    for row in range(20):\n",
    "        for column in range(20):\n",
    "            faces[row*20+column] = np.ndarray.flatten(img_ndarray[row*57:(row+1)*57,column*47:(column+1)*47])\n",
    "    print(f'faces:{faces}{faces.shape}\\n')        \n",
    "    # Create target array    \n",
    "    target = np.empty(400)\n",
    "    for i in range(40):\n",
    "        target[i*10:i*10+10]=i\n",
    "\n",
    "    target=target.astype(np.int)\n",
    "    \n",
    "    #train, validation\n",
    "    train_data=np.empty((360,2679),dtype='float32')\n",
    "    train_target=np.empty(360)\n",
    "    test_data=np.empty((40,2679),dtype='float32')\n",
    "    test_target=np.empty(40)\n",
    "\n",
    "    for i in range(40):\n",
    "        train_data[i*9:i*9+9]=faces[i*10:i*10+9]\n",
    "        train_target[i*9:i*9+9]=target[i*10:i*10+9]\n",
    "        test_data[i]=faces[i*10+9]\n",
    "        test_target[i]=target[i*10+9]\n",
    "        \n",
    "    # reshape\n",
    "    train_data = train_data.reshape((360,57,47,1))\n",
    "    test_data = test_data.reshape((40,57,47,1))\n",
    "    \n",
    "    # one-hot encode for target\n",
    "    train_target = tf.keras.utils.to_categorical(train_target)\n",
    "    test_target = tf.keras.utils.to_categorical(test_target)    \n",
    "        \n",
    "    return train_data, train_target, test_data, test_target\n",
    "\n",
    "train_data, train_target, test_data, test_target = load_images(\"olivettifaces.gif\")  \n"
   ]
  },
  {
   "cell_type": "code",
   "execution_count": 4,
   "metadata": {},
   "outputs": [
    {
     "name": "stdout",
     "output_type": "stream",
     "text": [
      "(360, 57, 47, 1) (360, 40) (40, 57, 47, 1) (40, 40)\n"
     ]
    }
   ],
   "source": [
    "print(train_data.shape, train_target.shape, test_data.shape, test_target.shape)"
   ]
  },
  {
   "cell_type": "markdown",
   "metadata": {},
   "source": [
    "### 1.2 Build Convnet model\n",
    "Implement function `build_CNN()` to build the convnet described as following: <br>\n",
    "1)\tLayer 0 - conv2d_1 (Conv2D), 5 kernels, size of kernel: 5 by 5, input of this layer is a 3D tesnor (57, 47, 1), activation function is tanh <br>\n",
    "2)\tLayer 1 - maxpooling2d_1 (MaxPooling2D), 2 by 2 pooling <br>\n",
    "3)\tLayer 2 - conv2d_2 (Conv2D), 10 kernels, size of kernel: 5 by 5, activation function is tanh <br>\n",
    "4)\tLayer 3 - maxpooling2d_2 (MaxPooling2D), 2 by 2 pooling <br>\n",
    "5)\tLayer 4 - flatten_1 (Flatten) <br>\n",
    "6)\tLayer 5 - dense_1 (Dense), 1000 nodes, activation function is tanh <br>\n",
    "7)\tLayer 6 - dense_2(Dense), 40 nodes, activation function is softmax\n"
   ]
  },
  {
   "cell_type": "code",
   "execution_count": 5,
   "metadata": {},
   "outputs": [],
   "source": [
    "def build_CNN():\n",
    "    \n",
    "    # Your code goes here\n",
    "    network = models.Sequential()\n",
    "    network.add(Conv2D(5, (5, 5), activation='tanh', input_shape=(57, 47, 1)))  # layer 0\n",
    "    network.add(MaxPooling2D(pool_size=(2, 2)))                                 # layer 1                        \n",
    "    network.add(Conv2D(10, (5, 5), activation='tanh'))                          # layer 2\n",
    "    network.add(MaxPooling2D(pool_size=(2, 2)))                                 # layer 3\n",
    "    network.add(Flatten())                         # layer 4\n",
    "    network.add(Dense(1000, activation='tanh'))    # layer 5\n",
    "    network.add(Dense(40, activation='softmax'))   # layer 6\n",
    "    network.compile(loss='categorical_crossentropy', optimizer='rmsprop', metrics=['accuracy'])\n",
    "    \n",
    "    return network"
   ]
  },
  {
   "cell_type": "markdown",
   "metadata": {},
   "source": [
    "### 1.3 Train the convnet\n",
    "- Call `build_CNN` get the convnet model\n",
    "- Compile the modle (`compile()`, use the following hyperparameter setting to compile the model.<br>\n",
    "    1) `optimizer=rmsprop` <br>\n",
    "    2) `loss=categorical_crossentropy` <br>\n",
    "    3) `metrics=[‘accuracy’]`. <br>\n",
    "- Train the model (`fit()`). <br>\n",
    "    1) Apply **early stopping** in the learning/fitting process. Click [here](https://chrisalbon.com/deep_learning/keras/neural_network_early_stopping/) for a introduction of very basic use of early stopping. <br>\n",
    "    2) Plot the learning curve by using the returned result from `fit()`"
   ]
  },
  {
   "cell_type": "code",
   "execution_count": 6,
   "metadata": {},
   "outputs": [
    {
     "name": "stdout",
     "output_type": "stream",
     "text": [
      "Epoch 1/20\n",
      "4/4 - 0s - loss: 4.0305 - accuracy: 0.0306 - val_loss: 3.3701 - val_accuracy: 0.2000\n",
      "Epoch 2/20\n",
      "4/4 - 0s - loss: 3.1545 - accuracy: 0.3028 - val_loss: 2.9690 - val_accuracy: 0.4250\n",
      "Epoch 3/20\n",
      "4/4 - 0s - loss: 2.6315 - accuracy: 0.5833 - val_loss: 2.5656 - val_accuracy: 0.4000\n",
      "Epoch 4/20\n",
      "4/4 - 0s - loss: 2.0714 - accuracy: 0.6528 - val_loss: 2.0598 - val_accuracy: 0.5250\n",
      "Epoch 5/20\n",
      "4/4 - 0s - loss: 1.5351 - accuracy: 0.7750 - val_loss: 1.7824 - val_accuracy: 0.6250\n",
      "Epoch 6/20\n",
      "4/4 - 0s - loss: 1.1656 - accuracy: 0.8278 - val_loss: 1.4395 - val_accuracy: 0.6750\n",
      "Epoch 7/20\n",
      "4/4 - 0s - loss: 0.8069 - accuracy: 0.9333 - val_loss: 1.1519 - val_accuracy: 0.7000\n",
      "Epoch 8/20\n",
      "4/4 - 0s - loss: 0.5424 - accuracy: 0.9556 - val_loss: 1.0219 - val_accuracy: 0.7500\n",
      "Epoch 9/20\n",
      "4/4 - 0s - loss: 0.4166 - accuracy: 0.9611 - val_loss: 1.1553 - val_accuracy: 0.7000\n",
      "Epoch 10/20\n",
      "4/4 - 0s - loss: 0.3248 - accuracy: 0.9722 - val_loss: 0.7554 - val_accuracy: 0.8250\n",
      "Epoch 11/20\n",
      "4/4 - 0s - loss: 0.2005 - accuracy: 0.9917 - val_loss: 0.7132 - val_accuracy: 0.8250\n",
      "Epoch 12/20\n",
      "4/4 - 0s - loss: 0.1421 - accuracy: 0.9972 - val_loss: 0.5753 - val_accuracy: 0.8750\n",
      "Epoch 13/20\n",
      "4/4 - 0s - loss: 0.1070 - accuracy: 1.0000 - val_loss: 0.5240 - val_accuracy: 0.8750\n",
      "Epoch 14/20\n",
      "4/4 - 0s - loss: 0.0738 - accuracy: 1.0000 - val_loss: 0.5088 - val_accuracy: 0.9000\n",
      "Epoch 15/20\n",
      "4/4 - 0s - loss: 0.0569 - accuracy: 1.0000 - val_loss: 0.4841 - val_accuracy: 0.8750\n",
      "Epoch 16/20\n",
      "4/4 - 0s - loss: 0.0526 - accuracy: 0.9972 - val_loss: 0.4973 - val_accuracy: 0.8750\n",
      "Epoch 17/20\n",
      "4/4 - 0s - loss: 0.0998 - accuracy: 0.9806 - val_loss: 0.4447 - val_accuracy: 0.9000\n",
      "Epoch 18/20\n",
      "4/4 - 0s - loss: 0.0257 - accuracy: 1.0000 - val_loss: 0.3868 - val_accuracy: 0.9000\n",
      "Epoch 19/20\n",
      "4/4 - 0s - loss: 0.0198 - accuracy: 1.0000 - val_loss: 0.4007 - val_accuracy: 0.9000\n",
      "Epoch 20/20\n",
      "4/4 - 0s - loss: 0.0150 - accuracy: 1.0000 - val_loss: 0.3582 - val_accuracy: 0.9000\n"
     ]
    }
   ],
   "source": [
    "# Your code goes here\n",
    "model = build_CNN()\n",
    "\n",
    "# Set callback functions to early stop training and save the best model so far\n",
    "callbacks = [EarlyStopping(monitor='val_loss', patience=2)]\n",
    "\n",
    "# Train neural network\n",
    "history = model.fit(train_data,             # Features\n",
    "                      train_target,         # Target vector\n",
    "                      epochs=20,            # Number of epochs\n",
    "                      callbacks=callbacks,  # Early stopping\n",
    "                      verbose=2,            # Print description after each epoch\n",
    "                      batch_size=100,       # Number of observations per batch\n",
    "                      validation_data=(test_data, test_target)) # Data for evaluation"
   ]
  },
  {
   "cell_type": "markdown",
   "metadata": {},
   "source": [
    "### 1.4 Plot learning curve on train loss"
   ]
  },
  {
   "cell_type": "code",
   "execution_count": 7,
   "metadata": {},
   "outputs": [
    {
     "name": "stdout",
     "output_type": "stream",
     "text": [
      "Model: \"sequential\"\n",
      "_________________________________________________________________\n",
      "Layer (type)                 Output Shape              Param #   \n",
      "=================================================================\n",
      "conv2d (Conv2D)              (None, 53, 43, 5)         130       \n",
      "_________________________________________________________________\n",
      "max_pooling2d (MaxPooling2D) (None, 26, 21, 5)         0         \n",
      "_________________________________________________________________\n",
      "conv2d_1 (Conv2D)            (None, 22, 17, 10)        1260      \n",
      "_________________________________________________________________\n",
      "max_pooling2d_1 (MaxPooling2 (None, 11, 8, 10)         0         \n",
      "_________________________________________________________________\n",
      "flatten (Flatten)            (None, 880)               0         \n",
      "_________________________________________________________________\n",
      "dense (Dense)                (None, 1000)              881000    \n",
      "_________________________________________________________________\n",
      "dense_1 (Dense)              (None, 40)                40040     \n",
      "=================================================================\n",
      "Total params: 922,430\n",
      "Trainable params: 922,430\n",
      "Non-trainable params: 0\n",
      "_________________________________________________________________\n"
     ]
    }
   ],
   "source": [
    "#display summary\n",
    "model.summary()"
   ]
  },
  {
   "cell_type": "code",
   "execution_count": 8,
   "metadata": {},
   "outputs": [
    {
     "name": "stdout",
     "output_type": "stream",
     "text": [
      "dict_keys(['loss', 'accuracy', 'val_loss', 'val_accuracy'])\n"
     ]
    },
    {
     "data": {
      "image/png": "[encoded data removed]",
      "text/plain": [
       "<Figure size 432x288 with 1 Axes>"
      ]
     },
     "metadata": {
      "needs_background": "light"
     },
     "output_type": "display_data"
    },
    {
     "data": {
      "image/png": "[encoded data removed]",
      "text/plain": [
       "<Figure size 432x288 with 1 Axes>"
      ]
     },
     "metadata": {
      "needs_background": "light"
     },
     "output_type": "display_data"
    }
   ],
   "source": [
    "# display the loss curves\n",
    "\n",
    "# Your code goes here\n",
    "\n",
    "# list all data in history\n",
    "print(history.history.keys())\n",
    "\n",
    "# summarize history for accuracy\n",
    "plt.plot(history.history['accuracy'])\n",
    "plt.plot(history.history['val_accuracy'])\n",
    "plt.title('model accuracy')\n",
    "plt.ylabel('accuracy')\n",
    "plt.xlabel('epoch')\n",
    "plt.legend(['train', 'test'], loc='upper left')\n",
    "plt.show()\n",
    "\n",
    "# summarize history for loss\n",
    "plt.plot(history.history['loss'])\n",
    "plt.plot(history.history['val_loss'])\n",
    "plt.title('model loss')\n",
    "plt.ylabel('loss')\n",
    "plt.xlabel('epoch')\n",
    "plt.legend(['train', 'test'], loc='upper left')\n",
    "plt.show()"
   ]
  },
  {
   "cell_type": "markdown",
   "metadata": {},
   "source": [
    "### 1.5 Make prediction\n",
    "Run the code below to evaluate the model and observe the prediction result."
   ]
  },
  {
   "cell_type": "code",
   "execution_count": 9,
   "metadata": {},
   "outputs": [
    {
     "name": "stdout",
     "output_type": "stream",
     "text": [
      "2/2 [==============================] - 0s 3ms/step - loss: 0.3582 - accuracy: 0.9000\n"
     ]
    }
   ],
   "source": [
    "model.evaluate(test_data, test_target)\n",
    "predictions = model.predict(test_data)"
   ]
  },
  {
   "cell_type": "markdown",
   "metadata": {},
   "source": [
    "`predict` function returns a probability distribution over all 40 subjects. How do we get the identity from the `predctions`, type the statement in the cell below"
   ]
  },
  {
   "cell_type": "code",
   "execution_count": 10,
   "metadata": {},
   "outputs": [
    {
     "name": "stdout",
     "output_type": "stream",
     "text": [
      "Labels: \n",
      "[ 0  1  2  3  4  5  4  7 39  9 10 11 12 13 14 15 16 17 31 19 20 21 22 23\n",
      " 24 25 26 27 28 39 30 31 32 33 34 35 36 37 38 39]\n",
      "\n",
      "Misclassified subjects: \n",
      "[6, 8, 18, 29]\n"
     ]
    }
   ],
   "source": [
    "# predict the label\n",
    "# Your code goes here\n",
    "\n",
    "labels = np.array([np.argmax(pred, axis = 0) for pred in predictions]) # get the index of the biggest value in each of pred\n",
    "correct = np.arange(40) # total 40 from 0 to 40\n",
    "misclass = [correct[i] for i in range(len(labels)) if labels[i] != correct[i]] # pick out the misscl\n",
    "\n",
    "# print()\n",
    "print(f'Labels: \\n{labels}\\n')\n",
    "print(f'Misclassified subjects: \\n{misclass}')"
   ]
  },
  {
   "cell_type": "markdown",
   "metadata": {},
   "source": [
    "**How many subjects are wrongly classified? Give the identity of those subjects?**\n",
    "\n",
    "Ans: 3 subjects are wrongly classified. They are number 6, , 8, 18 and 29"
   ]
  },
  {
   "cell_type": "markdown",
   "metadata": {},
   "source": [
    "---\n",
    "\n",
    "## 2. Task 2 - Build up your own convnet\n",
    "\n",
    "In this task you're to build your own model and train it on the cats and dogs images. Save and submit your best modle (`model.save()` can be used to save your modle onto the disk).\n",
    "\n",
    "### 2.1 Load Data\n",
    "This task focus on classifying images as dogs or cats, in a dataset containing 4,000 pictures of cats and dogs (2,000 cats, 2,000 dogs). We’ll use 2,000 pictures for training—1,000 for validation, and 1,000 for testing. The original dataset could be downloaded from www.kaggle.com/c/dogs-vs-cats/data <br>\n",
    "We'll use the split dataset which can be downloaded from the moodle course page."
   ]
  },
  {
   "cell_type": "code",
   "execution_count": 11,
   "metadata": {},
   "outputs": [],
   "source": [
    "# specify the folder of train, validation and test data set\n",
    "import os, cv2, re, random\n",
    "import pandas as pd\n",
    "# C:/Users/kaino/Documents/digipen lessons/digi_ml/AM-P06-Convolutional Neural Network/\n",
    "# Change the follwing path if the dataset is not located here\n",
    "train_dir = \"dogvscat/train\" \n",
    "validation_dir = \"dogvscat/validation\"\n",
    "test_dir = \"dogvscat/test\"\n",
    "\n",
    "train_cats_dir = os.path.join(train_dir, 'cats')  \n",
    "train_dogs_dir = os.path.join(train_dir, 'dogs')\n",
    "validation_cats_dir = os.path.join(validation_dir, 'cats')\n",
    "validation_dogs_dir = os.path.join(validation_dir, 'dogs')\n",
    "test_cats_dir = os.path.join(test_dir, 'cats')\n",
    "test_dogs_dir = os.path.join(test_dir, 'dogs')"
   ]
  },
  {
   "cell_type": "code",
   "execution_count": 12,
   "metadata": {},
   "outputs": [],
   "source": [
    "VALID_FRACTION = 0.2\n",
    "BATCH_SIZE = 20\n",
    "EPOCHS = 30\n",
    "\n",
    "IMAGE_WIDTH = IMAGE_HEIGHT = 150\n",
    "\n",
    "# creating df with train labels\n",
    "train_filenames = os.listdir(train_dir)\n",
    "train_labels = []\n",
    "for filename in train_filenames:\n",
    "    label = filename.split('.')[0]\n",
    "    train_labels.append(label)\n",
    "\n",
    "train_df = pd.DataFrame({\n",
    "    'id': train_filenames,\n",
    "    'label': train_labels\n",
    "})"
   ]
  },
  {
   "cell_type": "code",
   "execution_count": 13,
   "metadata": {},
   "outputs": [
    {
     "name": "stdout",
     "output_type": "stream",
     "text": [
      "Found 2000 images belonging to 2 classes.\n",
      "Found 1000 images belonging to 2 classes.\n"
     ]
    }
   ],
   "source": [
    "# Using ImageDataGenerator to read images from directories\n",
    "# The generator yields batches of 150 × 150 RGB images (shape (20, 150, 150, 3)) and binary labels (shape (20,)).\n",
    "# There are 20 samples in each batch (the batch size).\n",
    "\n",
    "from keras.preprocessing.image import ImageDataGenerator\n",
    "\n",
    "# Rescales all images by 1/255\n",
    "train_datagen = ImageDataGenerator(rescale=1./255)\n",
    "test_datagen = ImageDataGenerator(rescale=1./255)\n",
    "\n",
    "train_generator = train_datagen.flow_from_directory(train_dir,\n",
    "                                                    target_size=(150, 150),\n",
    "                                                    batch_size=20,\n",
    "                                                    class_mode='binary')\n",
    "validation_generator = test_datagen.flow_from_directory(validation_dir,\n",
    "                                                        target_size=(150, 150),\n",
    "                                                        batch_size=20,\n",
    "                                                        class_mode='binary')"
   ]
  },
  {
   "cell_type": "markdown",
   "metadata": {},
   "source": [
    "### 2.2 Bulid your convnet and Train it\n",
    "\n",
    "Design and implement your own model for classifying cats and dogs images. Save the trained model into the file `mymodel.h5`. <br>\n",
    "When calling `fit()`, `train_data, train_target` should be replace with `train_generator`, and use `validation_generator` to initialize parameter `validation_data`."
   ]
  },
  {
   "cell_type": "code",
   "execution_count": 23,
   "metadata": {},
   "outputs": [
    {
     "name": "stdout",
     "output_type": "stream",
     "text": [
      "Model: \"sequential_2\"\n",
      "_________________________________________________________________\n",
      "Layer (type)                 Output Shape              Param #   \n",
      "=================================================================\n",
      "conv2d_6 (Conv2D)            (None, 148, 148, 32)      896       \n",
      "_________________________________________________________________\n",
      "max_pooling2d_6 (MaxPooling2 (None, 74, 74, 32)        0         \n",
      "_________________________________________________________________\n",
      "conv2d_7 (Conv2D)            (None, 72, 72, 64)        18496     \n",
      "_________________________________________________________________\n",
      "max_pooling2d_7 (MaxPooling2 (None, 36, 36, 64)        0         \n",
      "_________________________________________________________________\n",
      "conv2d_8 (Conv2D)            (None, 34, 34, 128)       73856     \n",
      "_________________________________________________________________\n",
      "max_pooling2d_8 (MaxPooling2 (None, 17, 17, 128)       0         \n",
      "_________________________________________________________________\n",
      "conv2d_9 (Conv2D)            (None, 15, 15, 128)       147584    \n",
      "_________________________________________________________________\n",
      "max_pooling2d_9 (MaxPooling2 (None, 7, 7, 128)         0         \n",
      "_________________________________________________________________\n",
      "dropout_1 (Dropout)          (None, 7, 7, 128)         0         \n",
      "_________________________________________________________________\n",
      "flatten_2 (Flatten)          (None, 6272)              0         \n",
      "_________________________________________________________________\n",
      "dense_4 (Dense)              (None, 512)               3211776   \n",
      "_________________________________________________________________\n",
      "dense_5 (Dense)              (None, 1)                 513       \n",
      "=================================================================\n",
      "Total params: 3,453,121\n",
      "Trainable params: 3,453,121\n",
      "Non-trainable params: 0\n",
      "_________________________________________________________________\n"
     ]
    }
   ],
   "source": [
    "# Your code goes here\n",
    "dogcat = tf.keras.models.Sequential([\n",
    "    # the images were resized by ImageDataGenerator 150x150 with 3 bytes color\n",
    "    tf.keras.layers.Conv2D(32, (3,3), activation='relu', input_shape=(150, 150, 3)),\n",
    "    tf.keras.layers.MaxPooling2D(2,2),\n",
    "    tf.keras.layers.Conv2D(64, (3,3), activation='relu'),\n",
    "    tf.keras.layers.MaxPooling2D(2,2), \n",
    "    tf.keras.layers.Conv2D(128, (3,3), activation='relu'), \n",
    "    tf.keras.layers.MaxPooling2D(2,2),\n",
    "    tf.keras.layers.Conv2D(128, (3,3), activation='relu'), \n",
    "    tf.keras.layers.MaxPooling2D(2,2),\n",
    "    tf.keras.layers.Dropout(0.5),\n",
    "    tf.keras.layers.Flatten(), \n",
    "    # 512 neuron hidden layer\n",
    "    tf.keras.layers.Dense(512, activation='relu'),\n",
    "    # since we have only 2 classes to predict we can use 1 neuron and sigmoid\n",
    "    tf.keras.layers.Dense(1, activation='sigmoid')])\n",
    "\n",
    "dogcat.summary()\n",
    "\n",
    "dogcat.compile(optimizer=tf.keras.optimizers.RMSprop(lr=0.001),\n",
    "    loss='binary_crossentropy',\n",
    "    metrics = ['accuracy'])\n",
    "\n",
    "es = tf.keras.callbacks.EarlyStopping(monitor='val_loss',\n",
    "    mode='min',\n",
    "    restore_best_weights=True, \n",
    "    verbose=1,\n",
    "    patience=5)"
   ]
  },
  {
   "cell_type": "code",
   "execution_count": 28,
   "metadata": {},
   "outputs": [
    {
     "name": "stdout",
     "output_type": "stream",
     "text": [
      "Epoch 1/30\n",
      "80/80 [==============================] - 30s 375ms/step - loss: 0.3941 - accuracy: 0.8325 - val_loss: 0.6438 - val_accuracy: 0.7225\n",
      "Epoch 2/30\n",
      "80/80 [==============================] - 31s 383ms/step - loss: 0.3646 - accuracy: 0.8288 - val_loss: 0.7156 - val_accuracy: 0.6875\n",
      "Epoch 3/30\n",
      "80/80 [==============================] - 30s 379ms/step - loss: 0.3586 - accuracy: 0.8487 - val_loss: 0.5569 - val_accuracy: 0.7675\n",
      "Epoch 4/30\n",
      "80/80 [==============================] - 31s 383ms/step - loss: 0.3297 - accuracy: 0.8575 - val_loss: 0.5493 - val_accuracy: 0.7600\n",
      "Epoch 5/30\n",
      "80/80 [==============================] - 31s 385ms/step - loss: 0.3169 - accuracy: 0.8675 - val_loss: 0.5237 - val_accuracy: 0.7650\n",
      "Epoch 6/30\n",
      "80/80 [==============================] - 31s 385ms/step - loss: 0.2770 - accuracy: 0.8875 - val_loss: 0.6107 - val_accuracy: 0.7700\n",
      "Epoch 7/30\n",
      "80/80 [==============================] - 31s 390ms/step - loss: 0.2891 - accuracy: 0.8881 - val_loss: 0.7740 - val_accuracy: 0.7375\n",
      "Epoch 8/30\n",
      "80/80 [==============================] - 32s 396ms/step - loss: 0.2549 - accuracy: 0.8950 - val_loss: 0.5998 - val_accuracy: 0.7425\n",
      "Epoch 9/30\n",
      "80/80 [==============================] - 32s 399ms/step - loss: 0.2505 - accuracy: 0.9013 - val_loss: 0.5966 - val_accuracy: 0.8025\n",
      "Epoch 10/30\n",
      "80/80 [==============================] - ETA: 0s - loss: 0.2411 - accuracy: 0.9000Restoring model weights from the end of the best epoch.\n",
      "80/80 [==============================] - 31s 383ms/step - loss: 0.2411 - accuracy: 0.9000 - val_loss: 0.6588 - val_accuracy: 0.7875\n",
      "Epoch 00010: early stopping\n"
     ]
    }
   ],
   "source": [
    "# training\n",
    "\n",
    "TRAIN_SIZE = 2000\n",
    "VALID_FRACTION = 0.2\n",
    "BATCH_SIZE = 20\n",
    "EPOCHS = 30\n",
    "\n",
    "history_dogcat = dogcat.fit(train_generator, validation_data=validation_generator,\n",
    "    steps_per_epoch=round(TRAIN_SIZE*(1.-VALID_FRACTION)/BATCH_SIZE),\n",
    "    validation_steps=round(TRAIN_SIZE*VALID_FRACTION/BATCH_SIZE),\n",
    "    epochs=EPOCHS,\n",
    "    callbacks=[es],\n",
    "    verbose=1)\n",
    "\n",
    "dogcat.save('dogvscat/mymodel.h5')"
   ]
  },
  {
   "cell_type": "code",
   "execution_count": 30,
   "metadata": {},
   "outputs": [
    {
     "name": "stdout",
     "output_type": "stream",
     "text": [
      "Found 1000 images belonging to 2 classes.\n",
      "50/50 [==============================] - 5s 95ms/step - loss: 0.6567 - accuracy: 0.7420\n"
     ]
    },
    {
     "data": {
      "text/plain": [
       "[0.6567167639732361, 0.7419999837875366]"
      ]
     },
     "execution_count": 30,
     "metadata": {},
     "output_type": "execute_result"
    }
   ],
   "source": [
    "# run the code below to load and evaluate your model\n",
    "\n",
    "model_stu = kr.models.load_model('dogvscat/mymodel.h5') # load the model\n",
    "\n",
    "# test_generator\n",
    "test_generator = test_datagen.flow_from_directory(test_dir,\n",
    "                                                  target_size=(150, 150),\n",
    "                                                  batch_size=20,\n",
    "                                                  class_mode='binary')\n",
    "model_stu.evaluate(test_generator) # evaluate the loaded model"
   ]
  },
  {
   "cell_type": "code",
   "execution_count": null,
   "metadata": {},
   "outputs": [],
   "source": []
  }
 ],
 "metadata": {
  "kernelspec": {
   "display_name": "Python 3",
   "language": "python",
   "name": "python3"
  },
  "language_info": {
   "codemirror_mode": {
    "name": "ipython",
    "version": 3
   },
   "file_extension": ".py",
   "mimetype": "text/x-python",
   "name": "python",
   "nbconvert_exporter": "python",
   "pygments_lexer": "ipython3",
   "version": "3.8.6"
  }
 },
 "nbformat": 4,
 "nbformat_minor": 4
}
